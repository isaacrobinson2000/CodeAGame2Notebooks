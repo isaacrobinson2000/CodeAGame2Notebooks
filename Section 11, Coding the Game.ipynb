{
 "cells": [
  {
   "cell_type": "code",
   "execution_count": null,
   "id": "e7a77473",
   "metadata": {},
   "outputs": [],
   "source": [
    "# Import Javascript Libraries: Execute this cell...\n",
    "from IPython.display import Javascript\n",
    "\n",
    "display(Javascript(\"jupyter_lib.js\"))"
   ]
  },
  {
   "cell_type": "markdown",
   "id": "1bfd259e",
   "metadata": {},
   "source": [
    "# Section 11: Coding the Game\n",
    "\n",
    "Goal:\n",
    " - Code up and create your idea.\n",
    " \n",
    "That's it! Work on your game code here. If you need help, I am here to assist."
   ]
  },
  {
   "cell_type": "code",
   "execution_count": null,
   "id": "491f723d",
   "metadata": {},
   "outputs": [],
   "source": []
  },
  {
   "cell_type": "markdown",
   "id": "2eeda8d1",
   "metadata": {},
   "source": [
    "## Final Presentation\n",
    "\n",
    "For the final presentation, you'll:\n",
    " - Give motivation for your idea (Why did you choose to make the game idea you came up with?)\n",
    " - Explain the game. (What are the mechanics/game play?)\n",
    "    - Can include showing some game play.\n",
    " - State what part of class you found most interesting, or enjoyed the most while creating the game."
   ]
  },
  {
   "cell_type": "code",
   "execution_count": null,
   "id": "7cccf36e",
   "metadata": {},
   "outputs": [],
   "source": []
  }
 ],
 "metadata": {
  "kernelspec": {
   "display_name": "Python 3 (ipykernel)",
   "language": "python",
   "name": "python3"
  },
  "language_info": {
   "codemirror_mode": {
    "name": "ipython",
    "version": 3
   },
   "file_extension": ".py",
   "mimetype": "text/x-python",
   "name": "python",
   "nbconvert_exporter": "python",
   "pygments_lexer": "ipython3",
   "version": "3.7.7"
  }
 },
 "nbformat": 4,
 "nbformat_minor": 5
}
