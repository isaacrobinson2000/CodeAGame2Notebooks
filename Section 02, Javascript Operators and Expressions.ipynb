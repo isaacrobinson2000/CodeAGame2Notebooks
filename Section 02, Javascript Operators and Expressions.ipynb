{
 "cells": [
  {
   "cell_type": "markdown",
   "id": "63573907",
   "metadata": {},
   "source": [
    "#### Execute this cell before running any code in this file..."
   ]
  },
  {
   "cell_type": "code",
   "execution_count": 2,
   "id": "1530c595",
   "metadata": {},
   "outputs": [
    {
     "data": {
      "application/javascript": [
       "// Print to notebook cell output...\n",
       "let elem_proto = Object.getPrototypeOf(element);\n",
       "\n",
       "elem_proto.println = function(obj){\n",
       "    this.append(((obj === undefined)? \"\": obj) + \"<br>\\n\");\n",
       "};\n",
       "\n",
       "elem_proto.print = function(obj){\n",
       "    this.append((obj === undefined)? \"\": obj);\n",
       "};\n",
       "\n",
       "// canvas.getBoundingClientRect() \n",
       "// window.requestAnimationFrame\n",
       "elem_proto.getCanvasAndPainter = function(width, height) {\n",
       "    let jqCanvas = $.parseHTML(\"<canvas width='\" + width + \"' height='\" + height +  \"' style='width: 100%;'>\");\n",
       "    let painter = jqCanvas[0].getContext(\"2d\");\n",
       "    \n",
       "    this.append(jqCanvas);\n",
       "    \n",
       "    return [jqCanvas[0], painter];\n",
       "};\n",
       "\n",
       "elem_proto.makeGame = function(width, height, gameLoop) {\n",
       "    \n",
       "};\n"
      ],
      "text/plain": [
       "<IPython.core.display.Javascript object>"
      ]
     },
     "metadata": {},
     "output_type": "display_data"
    }
   ],
   "source": [
    "# Import Javascript Libraries: Execute this cell...\n",
    "from IPython.display import Javascript\n",
    "\n",
    "display(Javascript(\"jupyter_lib.js\"))"
   ]
  },
  {
   "cell_type": "markdown",
   "id": "a35f1ce4",
   "metadata": {},
   "source": [
    "# Section 2: Javascript Operators and Expressions\n",
    "\n",
    "Goals:\n",
    " - Learn about how to get user input.\n",
    " - Learn about Javascript operations, and how they apply to each data type.\n",
    "\n",
    "## Receiving User Input, Sending Output\n",
    "\n",
    "There are many ways to get input from the user in Javascript, but for this tutorial we'll focus on using dialogs to get user input, as they are one of the simplest ways of getting user input.\n",
    "\n",
    "Javascript and these notebooks provide the following 4 functions for grabbing user input and displaying output:\n",
    " - `alert(message);`: Display a message to the user via a browser dialog. Blocks code from running until user clicks \"Ok\" in the dialog."
   ]
  },
  {
   "cell_type": "code",
   "execution_count": 3,
   "id": "1b8ffe2a",
   "metadata": {},
   "outputs": [
    {
     "data": {
      "application/javascript": [
       "alert(\"Some Output\");\n"
      ],
      "text/plain": [
       "<IPython.core.display.Javascript object>"
      ]
     },
     "metadata": {},
     "output_type": "display_data"
    }
   ],
   "source": [
    "%%javascript\n",
    "alert(\"Some Output\");"
   ]
  },
  {
   "cell_type": "markdown",
   "id": "a1c1ce54",
   "metadata": {},
   "source": [
    " - `element.println(message);`: Display a message to the user in the notebook, beneath the cell."
   ]
  },
  {
   "cell_type": "code",
   "execution_count": 4,
   "id": "f6e4f27d",
   "metadata": {},
   "outputs": [
    {
     "data": {
      "application/javascript": [
       "element.println(\"Some Output\");\n"
      ],
      "text/plain": [
       "<IPython.core.display.Javascript object>"
      ]
     },
     "metadata": {},
     "output_type": "display_data"
    }
   ],
   "source": [
    "%%javascript\n",
    "element.println(\"Some Output\");"
   ]
  },
  {
   "cell_type": "markdown",
   "id": "2986561d",
   "metadata": {},
   "source": [
    " - `prompt(message, [default]);`: Display a dialog to the user with the provided `message` and an input text box. If the user cancels, returns `null`, otherwise returns the text placed in the input field. `[default]` is an optional argument, and allows you to specify the default value in the text box."
   ]
  },
  {
   "cell_type": "code",
   "execution_count": 5,
   "id": "57992fef",
   "metadata": {},
   "outputs": [
    {
     "data": {
      "application/javascript": [
       "// Example prompt...\n",
       "let age = prompt(\"How old are you?\");\n",
       "alert(\"You are \" + age + \" years old...\");\n",
       "\n",
       "// Example of using the default value...\n",
       "let height = prompt(\"How tall are you (in feet)?\", 6);\n",
       "alert(\"You are \" + height + \" feet tall...\");\n"
      ],
      "text/plain": [
       "<IPython.core.display.Javascript object>"
      ]
     },
     "metadata": {},
     "output_type": "display_data"
    }
   ],
   "source": [
    "%%javascript\n",
    "// Example prompt...\n",
    "let age = prompt(\"How old are you?\");\n",
    "alert(\"You are \" + age + \" years old...\");\n",
    "\n",
    "// Example of using the default value...\n",
    "let height = prompt(\"How tall are you (in feet)?\", 6);\n",
    "alert(\"You are \" + height + \" feet tall...\");"
   ]
  },
  {
   "cell_type": "markdown",
   "id": "42808b7e",
   "metadata": {},
   "source": [
    " - `confirm(message);`: Display a dialog asking for user confirmation, returns `true` if the user clicked yes, otherwise returns `false`."
   ]
  },
  {
   "cell_type": "code",
   "execution_count": 6,
   "id": "730e46c6",
   "metadata": {},
   "outputs": [
    {
     "data": {
      "application/javascript": [
       "let isHappy = confirm(\"Are you happy?\");\n",
       "// Result is a boolean.\n",
       "alert(isHappy);\n"
      ],
      "text/plain": [
       "<IPython.core.display.Javascript object>"
      ]
     },
     "metadata": {},
     "output_type": "display_data"
    }
   ],
   "source": [
    "%%javascript\n",
    "let isHappy = confirm(\"Are you happy?\");\n",
    "// Result is a boolean.\n",
    "alert(isHappy);"
   ]
  },
  {
   "cell_type": "markdown",
   "id": "c3014110",
   "metadata": {},
   "source": [
    "___Challenge Exercise: You are a restaurant. Ask the user for an order, confirm there order, and then print their order result.___"
   ]
  },
  {
   "cell_type": "code",
   "execution_count": 7,
   "id": "9e17d61c",
   "metadata": {},
   "outputs": [
    {
     "data": {
      "application/javascript": [
       "// Place your code here...\n"
      ],
      "text/plain": [
       "<IPython.core.display.Javascript object>"
      ]
     },
     "metadata": {},
     "output_type": "display_data"
    }
   ],
   "source": [
    "%%javascript\n",
    "// Place your code here..."
   ]
  },
  {
   "cell_type": "markdown",
   "id": "b6e18095",
   "metadata": {},
   "source": [
    "## Javascript Operations: Mathematical\n",
    "\n",
    "You may be asking: How do we do computation in javascript? Javascript provides the following mathematical operators:\n",
    "\n",
    "#### Binary Operations (Accept two values to work on, or operands).\n",
    "\n",
    " - `+` Add two numbers, or perform concatenation if one of the types is a string."
   ]
  },
  {
   "cell_type": "code",
   "execution_count": 8,
   "id": "13162f92",
   "metadata": {},
   "outputs": [
    {
     "data": {
      "application/javascript": [
       "// We can use operations when assigning variables.\n",
       "let result = 5 + 3;\n",
       "\n",
       "element.println(\"Addition (or Concatenation):\");\n",
       "element.println(5 + 3);\n",
       "element.println(\"Foo\" + \"Bar\");\n",
       "element.println(6 + \"Foo\");\n",
       "element.println(6 + \"6\");\n"
      ],
      "text/plain": [
       "<IPython.core.display.Javascript object>"
      ]
     },
     "metadata": {},
     "output_type": "display_data"
    }
   ],
   "source": [
    "%%javascript\n",
    "// We can use operations when assigning variables.\n",
    "let result = 5 + 3;\n",
    "\n",
    "element.println(\"Addition (or Concatenation):\");\n",
    "element.println(5 + 3);\n",
    "element.println(\"Foo\" + \"Bar\");\n",
    "element.println(6 + \"Foo\");\n",
    "element.println(6 + \"6\");"
   ]
  },
  {
   "cell_type": "markdown",
   "id": "25fc4d1c",
   "metadata": {},
   "source": [
    " - `-`, `*`, and `/`: Subtract, multiply, or divide two numbers. All values are converted to numbers before the operation is done."
   ]
  },
  {
   "cell_type": "code",
   "execution_count": 9,
   "id": "c7fc82bc",
   "metadata": {
    "scrolled": false
   },
   "outputs": [
    {
     "data": {
      "application/javascript": [
       "// Subtraction\n",
       "element.println(\"Subtraction:\");\n",
       "element.println(5 - 3);\n",
       "element.println(\"Foo\" - \"Bar\");\n",
       "element.println(6 - \"Foo\");\n",
       "element.println(6 - \"6\");\n",
       "// Multiplication\n",
       "element.println();\n",
       "element.println(\"Multiplication:\");\n",
       "element.println(5 * 3);\n",
       "element.println(\"Foo\" * \"Bar\");\n",
       "element.println(6 * \"Foo\");\n",
       "element.println(6 * \"6\");\n",
       "// Division\n",
       "element.println();\n",
       "element.println(\"Division:\");\n",
       "element.println(5 / 3);\n",
       "element.println(\"Foo\" / \"Bar\");\n",
       "element.println(6 / \"Foo\");\n",
       "element.println(6 / \"6\");\n"
      ],
      "text/plain": [
       "<IPython.core.display.Javascript object>"
      ]
     },
     "metadata": {},
     "output_type": "display_data"
    }
   ],
   "source": [
    "%%javascript\n",
    "// Subtraction\n",
    "element.println(\"Subtraction:\");\n",
    "element.println(5 - 3);\n",
    "element.println(\"Foo\" - \"Bar\");\n",
    "element.println(6 - \"Foo\");\n",
    "element.println(6 - \"6\");\n",
    "// Multiplication\n",
    "element.println();\n",
    "element.println(\"Multiplication:\");\n",
    "element.println(5 * 3);\n",
    "element.println(\"Foo\" * \"Bar\");\n",
    "element.println(6 * \"Foo\");\n",
    "element.println(6 * \"6\");\n",
    "// Division\n",
    "element.println();\n",
    "element.println(\"Division:\");\n",
    "element.println(5 / 3);\n",
    "element.println(\"Foo\" / \"Bar\");\n",
    "element.println(6 / \"Foo\");\n",
    "element.println(6 / \"6\");"
   ]
  },
  {
   "cell_type": "markdown",
   "id": "546e9503",
   "metadata": {},
   "source": [
    " - `%`: Compute the remainder of the one number divided by the other. Similar two `-`, `*`, and `/`, converts values to numbers."
   ]
  },
  {
   "cell_type": "code",
   "execution_count": 10,
   "id": "a9b41e25",
   "metadata": {},
   "outputs": [
    {
     "data": {
      "application/javascript": [
       "element.println(\"Remainder:\");\n",
       "element.println(5 % 3);\n",
       "element.println(50 % 20);\n",
       "element.println(49 % 7);\n",
       "element.println(\"Foo\" % \"Bar\");\n",
       "element.println(6 % \"Foo\");\n",
       "element.println(6 % \"6\");\n"
      ],
      "text/plain": [
       "<IPython.core.display.Javascript object>"
      ]
     },
     "metadata": {},
     "output_type": "display_data"
    }
   ],
   "source": [
    "%%javascript\n",
    "element.println(\"Remainder:\");\n",
    "element.println(5 % 3);\n",
    "element.println(50 % 20);\n",
    "element.println(49 % 7);\n",
    "element.println(\"Foo\" % \"Bar\");\n",
    "element.println(6 % \"Foo\");\n",
    "element.println(6 % \"6\");"
   ]
  },
  {
   "cell_type": "markdown",
   "id": "edea3d44",
   "metadata": {},
   "source": [
    " - `**` Compute the power of two numbers. Converts both values to numbers."
   ]
  },
  {
   "cell_type": "code",
   "execution_count": 11,
   "id": "5643c365",
   "metadata": {},
   "outputs": [
    {
     "data": {
      "application/javascript": [
       "element.println(\"Power:\");\n",
       "element.println(5 ** 3);\n",
       "element.println(4 ** 2);\n",
       "element.println(8 ** 2);\n",
       "element.println(\"Foo\" ** \"Bar\");\n",
       "element.println(6 ** \"Foo\");\n",
       "element.println(6 ** \"2\");\n"
      ],
      "text/plain": [
       "<IPython.core.display.Javascript object>"
      ]
     },
     "metadata": {},
     "output_type": "display_data"
    }
   ],
   "source": [
    "%%javascript\n",
    "element.println(\"Power:\");\n",
    "element.println(5 ** 3);\n",
    "element.println(4 ** 2);\n",
    "element.println(8 ** 2);\n",
    "element.println(\"Foo\" ** \"Bar\");\n",
    "element.println(6 ** \"Foo\");\n",
    "element.println(6 ** \"2\");"
   ]
  },
  {
   "cell_type": "markdown",
   "id": "0b1600dd",
   "metadata": {},
   "source": [
    "#### Unary Operations (Single Operand).\n",
    "\n",
    "- `-` and `+`: `-` negates the provided number `+` does nothing. Both convert there operand or value to a number."
   ]
  },
  {
   "cell_type": "code",
   "execution_count": 12,
   "id": "20abbdeb",
   "metadata": {},
   "outputs": [
    {
     "data": {
      "application/javascript": [
       "element.println(\"Unary -:\");\n",
       "element.println(-5);\n",
       "element.println(-\"5\");\n",
       "element.println(-\"Foo\");\n",
       "\n",
       "element.println();\n",
       "element.println(\"Unary +:\");\n",
       "element.println(+5);\n",
       "element.println(+\"5\");\n",
       "element.println(+\"Foo\");\n",
       "\n",
       "element.println();\n",
       "element.println(\"Boolean Examples:\");\n",
       "element.println(+false);\n",
       "element.println(+true)\n"
      ],
      "text/plain": [
       "<IPython.core.display.Javascript object>"
      ]
     },
     "metadata": {},
     "output_type": "display_data"
    }
   ],
   "source": [
    "%%javascript\n",
    "element.println(\"Unary -:\");\n",
    "element.println(-5);\n",
    "element.println(-\"5\");\n",
    "element.println(-\"Foo\");\n",
    "\n",
    "element.println();\n",
    "element.println(\"Unary +:\");\n",
    "element.println(+5);\n",
    "element.println(+\"5\");\n",
    "element.println(+\"Foo\");\n",
    "\n",
    "element.println();\n",
    "element.println(\"Boolean Examples:\");\n",
    "element.println(+false);\n",
    "element.println(+true)"
   ]
  },
  {
   "cell_type": "markdown",
   "id": "4b58ae8d",
   "metadata": {},
   "source": [
    "## Operator Precedence\n",
    "\n",
    "Javascript has a set of rules that determine the order in which operations are executed. Javascript, for mathematical operators, follows PEMDAS.\n",
    " - P: parenthesis.\n",
    " - E: Exponents, right to left.\n",
    " - MD: Multiplication and Division at the same time, from left to right.\n",
    " - AS: Addition and Subtraction at the same time, from left to right.\n",
    " \n",
    "Note, that Javascript has other operators that are also done in a specific order. To extend to these situations, javascript defines a precedence table, which defines the order operators should be done in. Higher numbers indicate higher precedence. Odd numbered levels are done from left to right, even numbered levels are done right to left.\n",
    "\n",
    "| Precedence | Name | Sign |\n",
    "|------------|------|------|\n",
    "|...|...|...|\n",
    "| 17 | unary plus | + |\n",
    "| 17 | unary negation | - |\n",
    "| 16 | exponentiation | ** |\n",
    "| 15 |multiplication | * |\n",
    "|15 | division | / |\n",
    "| 13 | addition | + |\n",
    "| 13 | subtraction | - |\n",
    "| … | … | … |\n",
    "|3 | assignment | = |\n",
    "| … | … | … |\n",
    "\n",
    "Wait, assignment is an operator? \n",
    "\n",
    "Yep, it's a binary operator. It stores the result in the variable, and also evaluates to the result. This can be used to make assignment chains. Notice its precedence is low, so it is almost always done last."
   ]
  },
  {
   "cell_type": "code",
   "execution_count": 13,
   "id": "02ae68e1",
   "metadata": {
    "scrolled": false
   },
   "outputs": [
    {
     "data": {
      "application/javascript": [
       "let a, b, c;\n",
       "\n",
       "// This is valid.\n",
       "a = b = c = 2 + 2;\n",
       "\n",
       "element.println(a);\n",
       "element.println(b);\n",
       "element.println(c);\n"
      ],
      "text/plain": [
       "<IPython.core.display.Javascript object>"
      ]
     },
     "metadata": {},
     "output_type": "display_data"
    }
   ],
   "source": [
    "%%javascript\n",
    "let a, b, c;\n",
    "\n",
    "// This is valid.\n",
    "a = b = c = 2 + 2;\n",
    "\n",
    "element.println(a);\n",
    "element.println(b);\n",
    "element.println(c);"
   ]
  },
  {
   "cell_type": "markdown",
   "id": "1b0ee2df",
   "metadata": {},
   "source": [
    "___Challenge Exercise: Guess the results of each one of the operations below. Then run the cell to see if you were correct.___"
   ]
  },
  {
   "cell_type": "code",
   "execution_count": 14,
   "id": "71503e03",
   "metadata": {},
   "outputs": [
    {
     "data": {
      "application/javascript": [
       "let results = [];\n",
       "\n",
       "// Place the results you expect as comments after each operation, as shown below.\n",
       "results[0] = 5 * 4 + 2  // 22\n",
       "results[1] = 5 ** 2 + 1  // \n",
       "results[2] = 4 / 2 * 5  //\n",
       "results[3] = 5 % 2 / 1 * 2  //\n",
       "results[4] = 5 - 4 / 2 ** 2  //\n",
       "results[5] = 6 + 5 + \"5\"  //\n",
       "results[6] = 6 + \"5\" + 2  // \n",
       "results[7] = 5 + 6 * 2 - 4  //\n",
       "results[8] = 2 ** 2 ** 3  // Don't need to fully simplify, but give as at least a single power: \n",
       "\n",
       "// Print the results...\n",
       "for(let i = 0; i < results.length; i++) {\n",
       "    element.println(\"results[\" + i + \"] = \" + results[i]);\n",
       "}\n"
      ],
      "text/plain": [
       "<IPython.core.display.Javascript object>"
      ]
     },
     "metadata": {},
     "output_type": "display_data"
    }
   ],
   "source": [
    "%%javascript\n",
    "let results = [];\n",
    "\n",
    "// Place the results you expect as comments after each operation, as shown below.\n",
    "results[0] = 5 * 4 + 2  // 22\n",
    "results[1] = 5 ** 2 + 1  // \n",
    "results[2] = 4 / 2 * 5  //\n",
    "results[3] = 5 % 2 / 1 * 2  //\n",
    "results[4] = 5 - 4 / 2 ** 2  //\n",
    "results[5] = 6 + 5 + \"5\"  //\n",
    "results[6] = 6 + \"5\" + 2  // \n",
    "results[7] = 5 + 6 * 2 - 4  //\n",
    "results[8] = 2 ** 2 ** 3  // Don't need to fully simplify, but give as at least a single power: \n",
    "\n",
    "// Print the results...\n",
    "for(let i = 0; i < results.length; i++) {\n",
    "    element.println(\"results[\" + i + \"] = \" + results[i]);\n",
    "}"
   ]
  },
  {
   "cell_type": "markdown",
   "id": "961926be",
   "metadata": {},
   "source": [
    "___Challenge Exercise: Create a simple calculator. Given two user inputs, compute their product and display it to the user.___"
   ]
  },
  {
   "cell_type": "code",
   "execution_count": 15,
   "id": "7632bd60",
   "metadata": {},
   "outputs": [
    {
     "data": {
      "application/javascript": [
       "// Place code below...\n"
      ],
      "text/plain": [
       "<IPython.core.display.Javascript object>"
      ]
     },
     "metadata": {},
     "output_type": "display_data"
    }
   ],
   "source": [
    "%%javascript\n",
    "// Place code below..."
   ]
  },
  {
   "cell_type": "markdown",
   "id": "ef126dd2",
   "metadata": {},
   "source": [
    "## Combined Assignment Operators.\n",
    "\n",
    "It is common the update a variable based on it's current value, like.\n",
    "\n",
    "```javascript\n",
    "let value = 0\n",
    "value = value + 1;\n",
    "```\n",
    "\n",
    "It is so common that Javascript provides special assignment operators:\n",
    "```javascript\n",
    "let value = 0;\n",
    "value += 1; // Identical to value = value + 1;\n",
    "```\n",
    "\n",
    "Javascript has special assignment operators for all of the mathematical operators."
   ]
  },
  {
   "cell_type": "markdown",
   "id": "240f096f",
   "metadata": {},
   "source": [
    "## Increment/Decrement\n",
    "\n",
    "Increasing or decreasing a number by 1 are extremely common operations. They are so common that Javascript provides a special operators for them, `++` and `--`."
   ]
  },
  {
   "cell_type": "code",
   "execution_count": 16,
   "id": "3b4cb03d",
   "metadata": {},
   "outputs": [
    {
     "data": {
      "application/javascript": [
       "\n",
       "let value = 5;\n",
       "\n",
       "value++;\n",
       "element.println(\"Value is now: \" + value);\n",
       "\n",
       "value--;\n",
       "element.println(\"Value is now:\" + value);\n"
      ],
      "text/plain": [
       "<IPython.core.display.Javascript object>"
      ]
     },
     "metadata": {},
     "output_type": "display_data"
    }
   ],
   "source": [
    "%%javascript\n",
    "\n",
    "let value = 5;\n",
    "\n",
    "value++;\n",
    "element.println(\"Value is now: \" + value);\n",
    "\n",
    "value--;\n",
    "element.println(\"Value is now:\" + value);"
   ]
  },
  {
   "cell_type": "markdown",
   "id": "ff3eff65",
   "metadata": {},
   "source": [
    "#### Prefix versus Postfix\n",
    "\n",
    "The `++` and `--` operators can be placed both before and after the variable to be incremented. Doing so changes the result the expression is resolved to.\n",
    " - Placing Before: Prefix operation. Increment the value, and return that.\n",
    " - Placing After: Postfix operation. Return the value, then increment the value.\n",
    " "
   ]
  },
  {
   "cell_type": "code",
   "execution_count": 17,
   "id": "85915306",
   "metadata": {},
   "outputs": [
    {
     "data": {
      "application/javascript": [
       "let i = 0;\n",
       "let pre_inc_i = ++i;\n",
       "let post_inc_i = i++;\n",
       "\n",
       "element.println(i);\n",
       "element.println(pre_inc_i);\n",
       "element.println(post_inc_i);\n"
      ],
      "text/plain": [
       "<IPython.core.display.Javascript object>"
      ]
     },
     "metadata": {},
     "output_type": "display_data"
    }
   ],
   "source": [
    "%%javascript\n",
    "let i = 0;\n",
    "let pre_inc_i = ++i;\n",
    "let post_inc_i = i++;\n",
    "\n",
    "element.println(i);\n",
    "element.println(pre_inc_i);\n",
    "element.println(post_inc_i);"
   ]
  },
  {
   "cell_type": "markdown",
   "id": "80fc4427",
   "metadata": {},
   "source": [
    "## Binary Operations\n",
    "\n",
    "Javascript also provides binary operations, which treat numbers as 32-bit integers, and manipulate their binary.\n",
    "\n",
    " - AND ( & )\n",
    " - OR ( | )\n",
    " - XOR ( ^ )\n",
    " - NOT ( ~ )\n",
    " - LEFT SHIFT ( << )\n",
    " - RIGHT SHIFT ( >> )\n",
    " - ZERO-FILL RIGHT SHIFT ( >>> )\n",
    " \n",
    "You will rarely see these used so we won't cover them here..."
   ]
  },
  {
   "cell_type": "markdown",
   "id": "306546f1",
   "metadata": {},
   "source": [
    "## Final Exercises/Questions\n",
    "\n",
    "1.) Input can be retrieved from the user using the `_________` and `_________` functions.\n",
    "\n",
    "2.) Javascript provides mathematical operations. Which of these operations are included in the language, and what do they do?\n",
    "- `+`\n",
    "- `~`\n",
    "- `-`\n",
    "- `*`\n",
    "- `?`\n",
    "- `/`\n",
    "- `**`\n",
    "\n",
    "3.) What is the value of `foo`, `bar`, and `baz` at the end of the program?"
   ]
  },
  {
   "cell_type": "code",
   "execution_count": 22,
   "id": "50e3a5af",
   "metadata": {},
   "outputs": [
    {
     "data": {
      "application/javascript": [
       "let foo = 0;\n",
       "let bar = 1;\n",
       "let baz = 2;\n",
       "\n",
       "foo += ++baz;\n",
       "foo -= bar--;\n",
       "\n",
       "foo *= 3;\n",
       "bar += 5;\n",
       "\n",
       "baz = foo + bar;\n",
       "\n",
       "// Add print statements to see correct answer...\n"
      ],
      "text/plain": [
       "<IPython.core.display.Javascript object>"
      ]
     },
     "metadata": {},
     "output_type": "display_data"
    }
   ],
   "source": [
    "%%javascript\n",
    "let foo = 0;\n",
    "let bar = 1;\n",
    "let baz = 2;\n",
    "\n",
    "foo += ++baz;\n",
    "foo -= bar--;\n",
    "\n",
    "foo *= 3;\n",
    "bar += 5;\n",
    "\n",
    "baz = foo + bar;\n",
    "\n",
    "// Add print statements to see correct answer..."
   ]
  }
 ],
 "metadata": {
  "kernelspec": {
   "display_name": "Python 3 (ipykernel)",
   "language": "python",
   "name": "python3"
  },
  "language_info": {
   "codemirror_mode": {
    "name": "ipython",
    "version": 3
   },
   "file_extension": ".py",
   "mimetype": "text/x-python",
   "name": "python",
   "nbconvert_exporter": "python",
   "pygments_lexer": "ipython3",
   "version": "3.7.7"
  }
 },
 "nbformat": 4,
 "nbformat_minor": 5
}
