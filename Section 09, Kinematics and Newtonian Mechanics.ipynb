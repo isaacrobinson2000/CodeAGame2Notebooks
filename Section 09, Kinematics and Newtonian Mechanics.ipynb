{
 "cells": [
  {
   "cell_type": "code",
   "execution_count": null,
   "id": "6e14efd8",
   "metadata": {},
   "outputs": [],
   "source": [
    "# Import Javascript Libraries: Execute this cell...\n",
    "from IPython.display import Javascript\n",
    "\n",
    "display(Javascript(\"jupyter_lib.js\"))"
   ]
  },
  {
   "cell_type": "markdown",
   "id": "81e0c388",
   "metadata": {},
   "source": [
    "# Section 9: Kinematics and Newtonian Mechanics \n",
    "\n",
    "Goals:\n",
    " - Learn about fundamentals of motion. \n",
    " - Learn how to make objects move using Euler's method.\n",
    " - Implement code to move the player and simulate gravity.\n",
    " \n",
    "First, before we begin this lesson, you need to make a level to run the game in. Using your code from last class, make a level in the level editor and save it. We'll use that level in the game engine to begin implementing the mechanics for your player.\n",
    "\n",
    "## Basic Motion: Velocity\n",
    "\n",
    "To begin, we need to discuss basic motion for an object. One such way to define motion is speed, or velocity. As you may remember, _average_ velocity is defined as.\n",
    "\n",
    "$$\n",
    "v_{avg} = \\frac{\\Delta d}{\\Delta t}\n",
    "$$\n",
    "\n",
    "Where $\\Delta d$ is the distance covered (change in distance), and $\\Delta t$ is the time covered (change in time). Velocity is simply a measure of how \"fast\" an object is moving. Using some basic algebra, we can rearrange this formula to give us one that we can use to update the location of an object in the game. \n",
    "\n",
    "$$\n",
    "\\implies v_{avg} = \\frac{d_f - d_i}{\\Delta t} \n",
    "$$\n",
    "\n",
    "$$\n",
    "\\implies d_f - d_i = v_{avg} \\cdot \\Delta t\n",
    "$$\n",
    "\n",
    "$$\n",
    "\\implies d_f = v_{avg} \\cdot \\Delta t + d_i\n",
    "$$\n",
    "\n",
    "This raises a simple question: How do we compute the average velocity for a given time step? In real life we experience instantaneous velocities, or velocities that occur for an infinitesimal amount of time ($\\Delta t$ approaches, or gets really close 0). We experience many of these, producing a velocity curve. Computing the average velocity of this can be challenging.\n",
    "\n",
    "![Graph of velocity varying within a time step.](images/velocityplot.png)\n",
    "$$\n",
    "{\\scriptsize \\text{How do we determine the average velocity of the above messy curve?}}\n",
    "$$\n",
    "\n",
    "The mathematician Euler provided a simple solution to this problem: We don't. Between each time step, we just assume the velocity is constant, and matches the velocity at the beginning of the time step. If our time steps are small enough, it won't matter (at least to the human eye) as the difference between the average and starting velocities will become smaller and smaller. So, to apply this method we simply replace $v_{avg}$ with $v_i$.\n",
    "\n",
    "$$\n",
    "d_f \\approx v_i \\cdot \\Delta t + d_i \n",
    "$$\n",
    "\n",
    "### Task 1\n",
    "\n",
    "Your goal is to implement a constant change in velocity for the player in the x direction, based on the current arrow keys pressed down. (Moving left or right). All this means is that:\n",
    "\n",
    "$$\n",
    "v_i = \\frac{2}{1000} \\text{ or } \\frac{-2}{1000}\n",
    "$$\n",
    "\n",
    "Depending on the keys pressed. Above means means 2 blocks per second (Note speed of stuff is in blocks per millisecond due to the time step value passed to update being in milliseconds, and game coordinate space units being in blocks).\n",
    "\n",
    "Hints:\n",
    " - This should go in the `update` function.\n",
    " - Use `gameState.keysPressed` to check for `\"ArrowLeft\"` and `\"ArrowRight\"` values, indicating the arrow keys are pressed. Set your velocity value accordingly.\n",
    " - Update `this.x`, or the x location of the player, using the formula we got above.\n",
    " - To use the game engine instead of the level editor, replace `element.levelEditor` with `element.makeGame`. This runs the game instead of opening it in the level editor.\n",
    " \n",
    "Bonus:\n",
    " - Adjust the velocity to slow down and speed up your character."
   ]
  },
  {
   "cell_type": "code",
   "execution_count": null,
   "id": "e5420f26",
   "metadata": {},
   "outputs": [],
   "source": [
    "%%javascript\n",
    "// Copy and paste you game code here, then modify it..."
   ]
  },
  {
   "cell_type": "markdown",
   "id": "3ab0f9db",
   "metadata": {},
   "source": [
    "## A Step Up: Acceleration and Gravity\n",
    "\n",
    "As you may have noticed, objects don't fall at a constant velocity, but rather speed up as the fall further and further. This is due to the fact that things on Earth's surface experience not a constant change in velocity, but rather a constant acceleration due to the force of gravity. The question is, what is acceleration? Well, acceleration is simply a change in velocity.\n",
    "\n",
    "$$\n",
    "a_{avg} = \\frac{\\Delta v}{\\Delta t}\n",
    "$$\n",
    "\n",
    "The acceleration at Earth's surface due to gravity is $9.8 \\frac{m}{s^2}$, but since this is a game, we don't care if our gravity is 100% realistic, so you can use any value (and most games do). \n",
    "\n",
    "How do we simulate acceleration? Well, we can apply Euler's method again, simply rearranging and changing the formula to solve for the final velocity given the original velocity. This gives us:\n",
    "\n",
    "$$\n",
    "v_f \\approx a_i \\cdot \\Delta t + v_i\n",
    "$$\n",
    "\n",
    "Now in our loop, we first update the velocity using the acceleration, and then update the displacement using the new velocity. This means we'll need to store the velocity between steps.\n",
    "\n",
    "### Task 2\n",
    "\n",
    "Your goal is to get your player to fall using gravity, in the y direction. To do this, identify a constant gravity value, like:\n",
    "\n",
    "$$\n",
    "a_i = 0.1 / 1000\n",
    "$$\n",
    "\n",
    "Then implement the following code:\n",
    " - Initialize something in the constructor to store the x and y velocities. I suggest using `this._vx` and `this._vy`, as you will have to when we eventually add collision detection to your object.\n",
    " - In `update`:\n",
    "     - Use the formula above to update `this._vy` with the constant acceleration value you selected.\n",
    "     - Use formula from task 1 to update the y location (`this.y`) of the object given `this._vy`, the current object's velocity.\n",
    "     \n",
    "Bonus:\n",
    " - The speed of objects doesn't increase forever. Rather, objects reach a terminal velocity, at which they stop falling faster. Implement a cap on the y velocity to keep the object from falling beyond a certain speed.\n",
    "     \n",
    "Once your done, you should have an object that falls! But, it will fall right through blocks. This is because we currently don't detect collisions. That will be discovered in the next section."
   ]
  },
  {
   "cell_type": "code",
   "execution_count": null,
   "id": "75945b07",
   "metadata": {},
   "outputs": [],
   "source": [
    "%%javascript\n",
    "// Copy and paste you game code here, then modify it..."
   ]
  },
  {
   "cell_type": "markdown",
   "id": "c89b08d6",
   "metadata": {},
   "source": [
    "## Final Feature: Collision Detection and Correction\n",
    "\n",
    "As you may have already noticed, the player currently just flies right through objects, because it doesn't implement collision detection. To detect objects colliding in our engine, we will utilize the simplest shape: An axis-aligned box, or hit box. Detecting collisions between hit boxes is extremely simple (we check on each axis, if the starting point of one box is past the end point of another, and if all are true, they aren't colliding). Handling collisions effectively, on the other hand, is not a simple task. Therefore, the game engine provides built-in collision detection you can use. Specifically, by having your object extend `GameCollisionObject` instead of `GameObject`, they will be added to the collision engine.\n",
    "\n",
    "In the constructor, there are several settings you can configure that change how an object responds to collisions.\n",
    " - `this._collisionSides`: An object literal that defaults to `{\"left\": true, \"top\": true, \"right\": true, \"bottom\": true}`. By setting it to an object with some of the above entries missing, those sides won't be checked for collisions. This allows for one-way platforms, gates, and other items.\n",
    " - `this._movable`: Defaults to false. Indicates an object can't be moved, like blocks. If set to true, the velocity of an object must be stored in `this._vx` and `this._vy`. This is because velocities get automatically zeroed for you when you collide with objects in that direction.\n",
    " - `this._solid`: Defaults to true. If an object is not solid, collisions will still be detected, but objects that collide with it will move right through the object.\n",
    " \n",
    "Finally, it provides one method your object's can implement (but don't have to).\n",
    " - `handleCollision(obj, side)`: Triggered whenever a collision occurs between this and another `GameCollisionObject`. Passes the other object, and the side of the current object that collided with the other object (`\"left\"`, `\"right\"`, `\"top\"`, or `\"bottom\"`).\n",
    " \n",
    "Rather then implementing your own collision engine, you'll use the above class to handle any needed collisions for you.\n",
    "\n",
    "### Task 3\n",
    "\n",
    "Add collisions to the player and blocks. To do this, change the class you are extending. For blocks, the default settings are exactly what you need. For the player, you'll need to set the movable setting to true. \n",
    "\n",
    "Bonus: \n",
    " - If you manage to finish it all, why not try implementing jump on pressing the `\"ArrowUp\"` key? It should set the y velocity at the time of the jump to a high negative value, shooting the object into the air until gravity takes back over."
   ]
  },
  {
   "cell_type": "code",
   "execution_count": null,
   "id": "44ebf235",
   "metadata": {},
   "outputs": [],
   "source": [
    "%%javascript\n",
    "// Copy and paste you game code here, then modify it..."
   ]
  },
  {
   "cell_type": "code",
   "execution_count": null,
   "id": "08e0febc",
   "metadata": {},
   "outputs": [],
   "source": []
  }
 ],
 "metadata": {
  "kernelspec": {
   "display_name": "Python 3 (ipykernel)",
   "language": "python",
   "name": "python3"
  },
  "language_info": {
   "codemirror_mode": {
    "name": "ipython",
    "version": 3
   },
   "file_extension": ".py",
   "mimetype": "text/x-python",
   "name": "python",
   "nbconvert_exporter": "python",
   "pygments_lexer": "ipython3",
   "version": "3.7.7"
  }
 },
 "nbformat": 4,
 "nbformat_minor": 5
}
