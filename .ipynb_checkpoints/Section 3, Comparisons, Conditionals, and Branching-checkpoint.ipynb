{
 "cells": [
  {
   "cell_type": "markdown",
   "id": "0f9f9923",
   "metadata": {},
   "source": [
    "#### Execute this cell before running any code in this file..."
   ]
  },
  {
   "cell_type": "code",
   "execution_count": 3,
   "id": "b83d11ed",
   "metadata": {},
   "outputs": [
    {
     "data": {
      "application/javascript": [
       "// Print to notebook cell output...\n",
       "let elem_proto = Object.getPrototypeOf(element);\n",
       "\n",
       "elem_proto.println = function(obj){\n",
       "    this.append(((obj === undefined)? \"\": obj) + \"<br>\\n\");\n",
       "};\n",
       "\n",
       "elem_proto.print = function(obj){\n",
       "    this.append((obj === undefined)? \"\": obj);\n",
       "};\n",
       "\n",
       "// canvas.getBoundingClientRect() \n",
       "// window.requestAnimationFrame\n",
       "elem_proto.getCanvasAndPainter = function(width, height) {\n",
       "    let jqCanvas = $.parseHTML(\"<canvas width='\" + width + \"' height='\" + height +  \"' style='width: 100%;'>\");\n",
       "    let painter = jqCanvas[0].getContext(\"2d\");\n",
       "    \n",
       "    this.append(jqCanvas);\n",
       "    \n",
       "    return [jqCanvas[0], painter];\n",
       "};\n",
       "\n",
       "elem_proto.makeGame = function(width, height, gameLoop) {\n",
       "    \n",
       "};\n"
      ],
      "text/plain": [
       "<IPython.core.display.Javascript object>"
      ]
     },
     "metadata": {},
     "output_type": "display_data"
    }
   ],
   "source": [
    "# Import Javascript Libraries: Execute this cell...\n",
    "from IPython.display import Javascript\n",
    "\n",
    "display(Javascript(\"jupyter_lib.js\"))"
   ]
  },
  {
   "cell_type": "markdown",
   "id": "436584f8",
   "metadata": {},
   "source": [
    "# Section 3, Comparisons, Conditionals, and Branching"
   ]
  },
  {
   "cell_type": "markdown",
   "id": "97f1a86e",
   "metadata": {},
   "source": [
    "We have learned how to store information, and manipulate information mathematically, but that raises the question: \"How do we make decisions in programs?\" To do so, Javascript provides comparison operators and conditional statements. \n",
    "\n",
    "## The Comparison and Boolean Operators\n",
    "\n",
    "Javascript provides comparison operations, that allow us to compare two values. It also a few operators for combining boolean results. The list of comparison operators is:\n",
    "\n",
    " - `==`: Equal to: Are the two values equal?\n",
    " - `!=`: Not Equal To.\n",
    " - `>`: Greater Than: Is the first value greater than the second?\n",
    " - `<`: Less Than: Is the first value less than the second?\n",
    " - `>=`: Greater Than or Equal To.\n",
    " - `<=`: Less Than or Equal To.\n",
    " - `===`: Strict Equal: Types must be identical also.\n",
    " - `!==`: Strict Not Equal: No type casting is done before comparison.\n",
    " \n",
    "As you may have already guessed, all of these operators return a boolean, indicating if the comparison was true or false.\n",
    "\n",
    "### Comparisons for Numbers\n",
    "\n",
    "Nothing special, numbers compare based on value."
   ]
  },
  {
   "cell_type": "code",
   "execution_count": 7,
   "id": "14434f29",
   "metadata": {},
   "outputs": [
    {
     "data": {
      "application/javascript": [
       "element.println(5 == 5);\n",
       "element.println(5 >= 4);\n",
       "element.println(5 <= -1);\n",
       "element.println(5 < 10);\n",
       "element.println(5 > 5);\n",
       "element.println(5 != -1);\n"
      ],
      "text/plain": [
       "<IPython.core.display.Javascript object>"
      ]
     },
     "metadata": {},
     "output_type": "display_data"
    }
   ],
   "source": [
    "%%javascript\n",
    "element.println(5 == 5);\n",
    "element.println(5 >= 4);\n",
    "element.println(5 <= -1);\n",
    "element.println(5 < 10);\n",
    "element.println(5 > 5);\n",
    "element.println(5 != -1);"
   ]
  },
  {
   "cell_type": "markdown",
   "id": "56b163a0",
   "metadata": {},
   "source": [
    "### Comparisons for Strings\n",
    "\n",
    "Strings are compared using dictionary or lexicographical order. They are compared character-by-character until the first mismatch in letters is found, in which case letters are compared based on there order in the alphabet."
   ]
  },
  {
   "cell_type": "code",
   "execution_count": 18,
   "id": "e26308a0",
   "metadata": {},
   "outputs": [
    {
     "data": {
      "application/javascript": [
       "element.println(\"A\" == \"A\");\n",
       "element.println(\"and\" >= \"band\");\n",
       "element.println(\"banana\" <= \"bananana\");\n",
       "element.println(\"yes\" < \"yep\");\n",
       "element.println(\"wow\" > \"cool\");\n",
       "element.println(\"cow\" != \"cows\");\n"
      ],
      "text/plain": [
       "<IPython.core.display.Javascript object>"
      ]
     },
     "metadata": {},
     "output_type": "display_data"
    }
   ],
   "source": [
    "%%javascript\n",
    "element.println(\"A\" == \"A\");\n",
    "element.println(\"and\" >= \"band\");\n",
    "element.println(\"banana\" <= \"bananana\");\n",
    "element.println(\"yes\" < \"yep\");\n",
    "element.println(\"wow\" > \"cool\");\n",
    "element.println(\"cow\" != \"cows\");"
   ]
  },
  {
   "cell_type": "markdown",
   "id": "85e0f3ce",
   "metadata": {},
   "source": [
    "### Comparisons of Different Types\n",
    "\n",
    "Javascript, as a dynamic language, allows the comparison of different types. When this happens, javascript converts both values to numbers."
   ]
  },
  {
   "cell_type": "code",
   "execution_count": 22,
   "id": "76d12bfd",
   "metadata": {},
   "outputs": [
    {
     "data": {
      "application/javascript": [
       "element.println('2' < 1); // false, string '2' becomes the number 2.\n",
       "element.println( '01' == 1 ); // true, string '01' becomes the number 1.\n"
      ],
      "text/plain": [
       "<IPython.core.display.Javascript object>"
      ]
     },
     "metadata": {},
     "output_type": "display_data"
    }
   ],
   "source": [
    "%%javascript\n",
    "element.println('2' < 1); // false, string '2' becomes the number 2.\n",
    "element.println( '01' == 1 ); // true, string '01' becomes the number 1."
   ]
  },
  {
   "cell_type": "markdown",
   "id": "2ca83efa",
   "metadata": {},
   "source": [
    "For booleans, Javascript converts true to 1 and false to 0."
   ]
  },
  {
   "cell_type": "code",
   "execution_count": 21,
   "id": "ed03abe0",
   "metadata": {},
   "outputs": [
    {
     "data": {
      "application/javascript": [
       "element.println(true == 1); \n",
       "element.println(false == 0);\n"
      ],
      "text/plain": [
       "<IPython.core.display.Javascript object>"
      ]
     },
     "metadata": {},
     "output_type": "display_data"
    }
   ],
   "source": [
    "%%javascript\n",
    "element.println(true == 1); \n",
    "element.println(false == 0);"
   ]
  },
  {
   "cell_type": "markdown",
   "id": "bda00788",
   "metadata": {},
   "source": [
    "___NOTE: The values null and undefined equal == each other and do not equal any other value. But null is converted to 0 for comparison operators, and undefined to NaN.___"
   ]
  },
  {
   "cell_type": "markdown",
   "id": "54362047",
   "metadata": {},
   "source": [
    "### Strict Equality"
   ]
  },
  {
   "cell_type": "markdown",
   "id": "6fb3d42d",
   "metadata": {},
   "source": [
    "Because of Javascript's type conversions, some surprising results can occur when doing equality comparisons:"
   ]
  },
  {
   "cell_type": "code",
   "execution_count": 39,
   "id": "b12806f7",
   "metadata": {},
   "outputs": [
    {
     "data": {
      "application/javascript": [
       "// ???\n",
       "element.println(\"       1       \" == 1);\n",
       "element.println(\"1\" == true);\n",
       "element.println(false == 0);\n",
       "element.println(undefined == null);\n",
       "element.println(\"0\" != false);\n"
      ],
      "text/plain": [
       "<IPython.core.display.Javascript object>"
      ]
     },
     "metadata": {},
     "output_type": "display_data"
    }
   ],
   "source": [
    "%%javascript\n",
    "// ???\n",
    "element.println(\"       1       \" == 1);\n",
    "element.println(\"1\" == true);\n",
    "element.println(false == 0);\n",
    "element.println(undefined == null);\n",
    "element.println(\"0\" != false);"
   ]
  },
  {
   "cell_type": "markdown",
   "id": "22885428",
   "metadata": {},
   "source": [
    "To avoid these surprises, Javascript provides a way to compare values without them being automatically casted, using the strict equality operators (`===` and `!==`):"
   ]
  },
  {
   "cell_type": "code",
   "execution_count": 41,
   "id": "4d009a69",
   "metadata": {},
   "outputs": [
    {
     "data": {
      "application/javascript": [
       "// These results likely make more sense to you.\n",
       "element.println(\"       1       \" === 1);\n",
       "element.println(\"1\" === true);\n",
       "element.println(false === 0);\n",
       "element.println(undefined === null);\n",
       "element.println(\"0\" !== false);\n"
      ],
      "text/plain": [
       "<IPython.core.display.Javascript object>"
      ]
     },
     "metadata": {},
     "output_type": "display_data"
    }
   ],
   "source": [
    "%%javascript\n",
    "// These results likely make more sense to you.\n",
    "element.println(\"       1       \" === 1);\n",
    "element.println(\"1\" === true);\n",
    "element.println(false === 0);\n",
    "element.println(undefined === null);\n",
    "element.println(\"0\" !== false);"
   ]
  },
  {
   "cell_type": "markdown",
   "id": "bce80038",
   "metadata": {},
   "source": [
    "___Challenge Exercise: Attempt to guess the evaluation of the following comparisons below:___"
   ]
  },
  {
   "cell_type": "code",
   "execution_count": 46,
   "id": "e8ba9ae6",
   "metadata": {},
   "outputs": [
    {
     "data": {
      "application/javascript": [
       "// Place your answers at the end of each line...\n",
       "element.println(5 == 5); //\n",
       "element.println(4 <= 3); //\n",
       "element.println(6 > 6); //\n",
       "element.println(5 != \"5\"); //\n",
       "element.println(5 !== \"5\"); //\n",
       "element.println(\"Hello\" < \"World\"); //\n",
       "element.println(\"Hi \" == \"Hi\"); //\n",
       "element.println(null == undefined) //\n",
       "element.println(\" 0 \" == false);\n"
      ],
      "text/plain": [
       "<IPython.core.display.Javascript object>"
      ]
     },
     "metadata": {},
     "output_type": "display_data"
    }
   ],
   "source": [
    "%%javascript\n",
    "// Place your answers at the end of each line...\n",
    "element.println(5 == 5); //\n",
    "element.println(4 <= 3); //\n",
    "element.println(6 > 6); //\n",
    "element.println(5 != \"5\"); //\n",
    "element.println(5 !== \"5\"); //\n",
    "element.println(\"Hello\" < \"World\"); //\n",
    "element.println(\"Hi \" == \"Hi\"); //\n",
    "element.println(null == undefined) //\n",
    "element.println(\" 0 \" == false); //"
   ]
  },
  {
   "cell_type": "markdown",
   "id": "7b716657",
   "metadata": {},
   "source": [
    "## Conditionals and Branching\n",
    "\n"
   ]
  },
  {
   "cell_type": "markdown",
   "id": "8b47d92d",
   "metadata": {},
   "source": [
    "Now that we know how to perform comparisons, you might wonder how we can execute code based on those conditions. For this javascript provides conditionals, specifically the `if` statement."
   ]
  },
  {
   "cell_type": "code",
   "execution_count": null,
   "id": "275afd1a",
   "metadata": {},
   "outputs": [],
   "source": [
    "%%javascript\n",
    "let result = prompt();"
   ]
  }
 ],
 "metadata": {
  "kernelspec": {
   "display_name": "Python 3",
   "language": "python",
   "name": "python3"
  },
  "language_info": {
   "codemirror_mode": {
    "name": "ipython",
    "version": 3
   },
   "file_extension": ".py",
   "mimetype": "text/x-python",
   "name": "python",
   "nbconvert_exporter": "python",
   "pygments_lexer": "ipython3",
   "version": "3.7.7"
  }
 },
 "nbformat": 4,
 "nbformat_minor": 5
}
