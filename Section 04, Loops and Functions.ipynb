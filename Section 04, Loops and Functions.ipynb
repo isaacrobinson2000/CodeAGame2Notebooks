{
 "cells": [
  {
   "cell_type": "markdown",
   "id": "25d959a0",
   "metadata": {},
   "source": [
    "#### Execute this cell before running any code in this file..."
   ]
  },
  {
   "cell_type": "code",
   "execution_count": null,
   "id": "069de255",
   "metadata": {},
   "outputs": [],
   "source": [
    "# Import Javascript Libraries: Execute this cell...\n",
    "from IPython.display import Javascript\n",
    "\n",
    "display(Javascript(\"jupyter_lib.js\"))"
   ]
  },
  {
   "cell_type": "markdown",
   "id": "1917c8ba",
   "metadata": {},
   "source": [
    "# Section 4: Loops and Functions\n",
    "\n",
    "Goals:\n",
    " - Learn how to repeat tasks using loops.\n",
    " - Learn how to use functions to organize and call code.\n",
    "\n",
    "## Loops: `while` and `for`\n",
    "\n",
    "We often want to repeat tasks many times on a computer. Up until now we have repeated tasks by simply copying and pasting a single line over and over..."
   ]
  },
  {
   "cell_type": "code",
   "execution_count": null,
   "id": "d08d61e8",
   "metadata": {},
   "outputs": [],
   "source": [
    "%%javascript\n",
    "element.println(\"Hello World!\");\n",
    "element.println(\"Hello World!\");\n",
    "element.println(\"Hello World!\");"
   ]
  },
  {
   "cell_type": "markdown",
   "id": "1e924b68",
   "metadata": {},
   "source": [
    "But what if we wanted to repeat the above task 100 times? What about 1000 times? It seems silly to actually copy and paste the above line that many times, and you would be correct. To resolve this issue, Javascript and many other languages provide loops, which allow us to avoid the above issue. The simplest loop construct offered is the `while` loop.\n",
    "```javascript\n",
    "while(condition) {\n",
    "    // Code to repeat...\n",
    "}\n",
    "```\n",
    "As you can see, the while loop keeps repeating until the condition is false, at which it stops."
   ]
  },
  {
   "cell_type": "code",
   "execution_count": null,
   "id": "787ff4a6",
   "metadata": {},
   "outputs": [],
   "source": [
    "%%javascript\n",
    "let i = 0;\n",
    "\n",
    "while(i < 3) {\n",
    "    element.println(\"Hello World! On iteration: \" + i);\n",
    "    i++;\n",
    "}"
   ]
  },
  {
   "cell_type": "markdown",
   "id": "88150e3d",
   "metadata": {},
   "source": [
    "Now, we can increase the amount of loops by changing the value we compare against."
   ]
  },
  {
   "cell_type": "code",
   "execution_count": null,
   "id": "ec21b92a",
   "metadata": {},
   "outputs": [],
   "source": [
    "%%javascript\n",
    "let i = 0;\n",
    "\n",
    "while(i < 100) {\n",
    "    element.println(\"Hello World!\");\n",
    "    i++;\n",
    "}"
   ]
  },
  {
   "cell_type": "markdown",
   "id": "e3b03c6d",
   "metadata": {},
   "source": [
    "___Challenge Exercise: Write a while loop to alternate between printing \"Hello\" and \"World\" every other loop.___"
   ]
  },
  {
   "cell_type": "code",
   "execution_count": null,
   "id": "bdb8b74f",
   "metadata": {},
   "outputs": [],
   "source": [
    "%%javascript\n",
    "// Write code here."
   ]
  },
  {
   "cell_type": "markdown",
   "id": "fdd5c26a",
   "metadata": {},
   "source": [
    "#### `for` Loops\n",
    "\n",
    "You may notice a reoccurring trend in while loops:\n",
    "```javascript\n",
    "initialize;\n",
    "while(condition) {\n",
    "    // Actual interesting code here....\n",
    "    update_step;\n",
    "}\n",
    "```\n",
    "\n",
    "This type of loop is so common that Javascript provides a special loop just for it: a `for` loop.\n",
    "\n",
    "```javascript\n",
    "for(initialize; condition; update_step) {\n",
    "    // Interesting code here....\n",
    "}\n",
    "```\n",
    "\n",
    "As you may notice, this places all of the loop control code into a single construct, making it easier to read and less error prone."
   ]
  },
  {
   "cell_type": "code",
   "execution_count": null,
   "id": "5466a07e",
   "metadata": {},
   "outputs": [],
   "source": [
    "%%javascript\n",
    "for(let i = 0; i < 3; i++) {\n",
    "    element.println(\"Hello World! On iteration: \" + i);\n",
    "}"
   ]
  },
  {
   "cell_type": "markdown",
   "id": "19dc2d0d",
   "metadata": {},
   "source": [
    "#### Why start loops at 0?\n",
    "\n",
    "This is a tradition held mostly due to the fact that in most programming languages (including javascript) arrays (a sequential list in memory) are 0 indexed, or there first index starts at 0. This means to iterate the elements of a list with 6 elements, you actually need to iterate the indexes 0 through 5. We will learn more about arrays later. As for why arrays are 0 indexed, it is mostly due to the way they are implemented in the C programming language, where an array access was actually just adding a offset to a memory address."
   ]
  },
  {
   "cell_type": "code",
   "execution_count": null,
   "id": "219fd414",
   "metadata": {},
   "outputs": [],
   "source": [
    "%%javascript\n",
    "let arr = [\"Item 1\", \"Item 2\", \"Item 3\", \"Item 4\", \"Cool, Item 5\", \"Item 6, Last One\"];\n",
    "element.println(\"Array Length: \" + arr.length);\n",
    "\n",
    "for(let i = 0; i < arr.length; i++) {\n",
    "    element.println(\"Index: \" + i + \", Value: \" + arr[i]);\n",
    "}"
   ]
  },
  {
   "cell_type": "markdown",
   "id": "3c29e943",
   "metadata": {},
   "source": [
    "___Challenge Exercise: Sum of all numbers up to a value using a loop. Bonus: Get the number via user input.___\n",
    "\n",
    "Formula: 1 + 2 + 3 + ... + (n - 1) + n."
   ]
  },
  {
   "cell_type": "code",
   "execution_count": null,
   "id": "f0c31da3",
   "metadata": {},
   "outputs": [],
   "source": [
    "%%javascript\n",
    "// Code here..."
   ]
  },
  {
   "cell_type": "markdown",
   "id": "4f0d01e3",
   "metadata": {},
   "source": [
    "___Challenge Exercise: Number guessing game. Pick a random number between 1 and 100, ask the user to guess the number, and indicate if they are too low or too high. Keep asking until they guess the correct number.___"
   ]
  },
  {
   "cell_type": "code",
   "execution_count": null,
   "id": "cc75bded",
   "metadata": {},
   "outputs": [],
   "source": [
    "%%javascript\n",
    "// Code here... \n",
    "let number = Math.floor(Math.random() * 100 + 1); // Get a random number between 1 and 100, inclusive."
   ]
  },
  {
   "cell_type": "markdown",
   "id": "cb7db95d",
   "metadata": {},
   "source": [
    "### `break` and `continue` Keywords\n",
    "\n",
    "What if we want to break iteration early? Or skip to the next iteration before all code in the loop is executed? We can do this using the `break` and `continue` keywords."
   ]
  },
  {
   "cell_type": "code",
   "execution_count": null,
   "id": "17ee69aa",
   "metadata": {},
   "outputs": [],
   "source": [
    "%%javascript\n",
    "\n",
    "for(let i = 0; i < 3; i++) {\n",
    "    // We stop iteration early, when i is one.\n",
    "    if(i == 1) break;\n",
    "    \n",
    "    element.println(\"Hello World! On iteration: \" + i);\n",
    "}"
   ]
  },
  {
   "cell_type": "code",
   "execution_count": null,
   "id": "1925a0d4",
   "metadata": {},
   "outputs": [],
   "source": [
    "%%javascript\n",
    "\n",
    "for(let i = 0; i < 3; i++) {\n",
    "    // Skip printing when i is 1...\n",
    "    if(i == 1) continue;\n",
    "    \n",
    "    element.println(\"Hello World! On iteration: \" + i);\n",
    "}"
   ]
  },
  {
   "cell_type": "markdown",
   "id": "b64e381c",
   "metadata": {},
   "source": [
    "## Functions\n",
    "\n",
    "We often want to organize code in such a way so we don't have to think about the internals, but rather can simply 'call' it to be executed from elsewhere. To do this, we can create functions using the `function` keyword."
   ]
  },
  {
   "cell_type": "code",
   "execution_count": null,
   "id": "99589512",
   "metadata": {},
   "outputs": [],
   "source": [
    "%%javascript\n",
    "\n",
    "// Our first function, adds two numbers..\n",
    "function add(n1, n2) {\n",
    "    return n1 + n2;\n",
    "}\n",
    "\n",
    "element.println(add(4, 5));"
   ]
  },
  {
   "cell_type": "markdown",
   "id": "9fdcf575",
   "metadata": {},
   "source": [
    "The above statement is called a function declaration. It has three key parts:\n",
    " - __function name:__ The name of the function. Follows the same rules as variable names.\n",
    " - __function arguments:__ We specify arguments to be passed to the function, and the names they should get inside the function. Once in the function body, they are treated as local variables. All values passed except for objects are passed by value (copied) when passed to the function as local variables.\n",
    " - __function body:__ Where the code goes. Can include a `return` statement, which returns a value from the function. If no return statement is added, undefined is returned.\n",
    " \n",
    "Finally, to call a function, we simply perform a call operation or `functionName(arg1, arg2, ..., argn)`. Arguments can be any expression, even another function call.\n",
    " \n",
    "We can define variables inside a function, but they are only accessible inside the function."
   ]
  },
  {
   "cell_type": "code",
   "execution_count": null,
   "id": "f52ca64e",
   "metadata": {},
   "outputs": [],
   "source": [
    "%%javascript\n",
    "\n",
    "// Our first function, adds two numbers..\n",
    "function add(n1, n2) {\n",
    "    let nothing = 0;\n",
    "    \n",
    "    return n1 + n2 + nothing;\n",
    "}\n",
    "\n",
    "// element.println(nothing); // This will throw an error.\n",
    "element.println(add(4 + 1, 5));"
   ]
  },
  {
   "cell_type": "markdown",
   "id": "996f9ed5",
   "metadata": {},
   "source": [
    "But variables defined outside the function are visible inside the function."
   ]
  },
  {
   "cell_type": "code",
   "execution_count": null,
   "id": "a6e87b7b",
   "metadata": {},
   "outputs": [],
   "source": [
    "%%javascript\n",
    "\n",
    "let nothing = 0\n",
    "\n",
    "// Our first function, adds two numbers..\n",
    "function add(n1, n2) {\n",
    "    element.println(nothing); // Valid.\n",
    "    nothing = 20; // We can modify it also, but this is considered bad practice...\n",
    "    \n",
    "    return n1 + n2 + nothing;\n",
    "}\n",
    "\n",
    "add(4, 5);\n",
    "\n",
    "element.println(nothing); // After the function call, the value is changed."
   ]
  },
  {
   "cell_type": "markdown",
   "id": "6b44b244",
   "metadata": {},
   "source": [
    "#### Default Values\n",
    "\n",
    "If a argument is not passed, it defaults to `undefined`. If we want a default argument other then undefined, we can specify the default value by placing it after an `=` sign after the argument. Default parameters are reevaluated, or reexecuted every time the function is called."
   ]
  },
  {
   "cell_type": "code",
   "execution_count": null,
   "id": "69946255",
   "metadata": {},
   "outputs": [],
   "source": [
    "%%javascript\n",
    "\n",
    "// Our first function, adds two numbers..\n",
    "function add(n1, n2) {\n",
    "    return n1 + n2;\n",
    "}\n",
    "\n",
    "// Same add function but second argument has a default value of 1.\n",
    "function defaultAdd(n1, n2 = 1) {\n",
    "    return n1 + n2\n",
    "}\n",
    "\n",
    "element.println(add(4)); // Will return 4 + undefined\n",
    "element.println(defaultAdd(4)); // Will return 4 + 1"
   ]
  },
  {
   "cell_type": "markdown",
   "id": "e179e6bd",
   "metadata": {},
   "source": [
    "#### More on `return`\n",
    "\n",
    "Note that the `return` can be placed anywhere inside the function, and can be given no arguments, indicating to return undefined. `return` always halts function execution immediately and returns the specified value."
   ]
  },
  {
   "cell_type": "code",
   "execution_count": null,
   "id": "33883b59",
   "metadata": {},
   "outputs": [],
   "source": [
    "%%javascript\n",
    "\n",
    "function addIfNotStupid(n1, n2) {\n",
    "    if((n1 == 0) || (n2 == 0)) {\n",
    "        return;\n",
    "    }\n",
    "    \n",
    "    return n1 + n2;\n",
    "}\n",
    "\n",
    "// Notice second return never happens. Have to wrap in string, as otherwise we wouldn't see undefined.\n",
    "element.println(String(addIfNotStupid(5, 0)));"
   ]
  },
  {
   "cell_type": "markdown",
   "id": "c64539d1",
   "metadata": {},
   "source": [
    "### Javascript Functions: Just like any other object.\n",
    "\n",
    "Javascript, unlike some other languages, actually treats functions as objects. This means they can be assigned to variables and passed to other functions as arguments."
   ]
  },
  {
   "cell_type": "code",
   "execution_count": null,
   "id": "266e8405",
   "metadata": {
    "scrolled": true
   },
   "outputs": [],
   "source": [
    "%%javascript\n",
    "\n",
    "function print(message) {\n",
    "    element.println(message);\n",
    "}\n",
    "\n",
    "function executor(func, arg) {\n",
    "    return func(arg);\n",
    "}\n",
    "\n",
    "let p = print; // Totally fine... Function is just an object.\n",
    "print(typeof(p));\n",
    "\n",
    "// The variable can be called also...\n",
    "p(\"Testing...\");\n",
    "\n",
    "// We can pass it to the executor...\n",
    "executor(p, \"Will this print?\");"
   ]
  },
  {
   "cell_type": "markdown",
   "id": "ddeca3ab",
   "metadata": {},
   "source": [
    "It is so common to directly assign functions to variables or pass them directly to functions that javascript provides another way of creating functions, called function expressions. "
   ]
  },
  {
   "cell_type": "code",
   "execution_count": null,
   "id": "e6f2305d",
   "metadata": {
    "scrolled": true
   },
   "outputs": [],
   "source": [
    "%%javascript\n",
    "\n",
    "function executor(func, arg) {\n",
    "    return func(arg);\n",
    "}\n",
    "\n",
    "// Function expression, no name, semicolon at the end.\n",
    "let p = function(message) {\n",
    "    element.println(\"The message is: \" + message);\n",
    "}; \n",
    "\n",
    "element.println(typeof(p));\n",
    "\n",
    "// The variable can be called also...\n",
    "p(\"Testing... \");\n",
    "\n",
    "// We can pass it to the executor...\n",
    "executor(p, \"Will this print with function expression?\");"
   ]
  },
  {
   "cell_type": "markdown",
   "id": "f4f94379",
   "metadata": {},
   "source": [
    "### Bonus: Recursion\n",
    "\n",
    "You may wonder: If functions can call other functions, can they call themselves? The answer is yes! This idea is often called recursion. It provides an alternate way of performing iteration."
   ]
  },
  {
   "cell_type": "code",
   "execution_count": null,
   "id": "ba459ae4",
   "metadata": {},
   "outputs": [],
   "source": [
    "%%javascript\n",
    "\n",
    "function loop(n) {\n",
    "    if(n <= 0) return; // The 'base case'.\n",
    "    \n",
    "    element.println(\"Value of n is: \" + n);\n",
    "    return loop(n - 1); // We call loop, but with n one less now...\n",
    "}\n",
    "\n",
    "function fibonacci(n) {\n",
    "    if(n <= 2) return 1; // The 'base case'.\n",
    "    \n",
    "    return fibonacci(n - 1) + fibonacci(n - 2);\n",
    "}\n",
    "\n",
    "loop(10);\n",
    "element.println(\"10th fibbonacci number: \" + fibonacci(10));"
   ]
  },
  {
   "cell_type": "markdown",
   "id": "ac3ffde6",
   "metadata": {},
   "source": [
    "## Final Exercises/Questions\n",
    "\n",
    "1.) What are 2 of the loop types that javascript offers? (Note: one extra type called `do while`, but it is rarely used).\n",
    "\n",
    "2.) What are two of the ways to create functions in Javascript?\n",
    "\n",
    "3.) Write a function that given a number, computes its factorial (`n!`). That is:\n",
    "$$\n",
    "n! = n \\cdot (n - 1) \\cdot (n - 2) \\cdot ... \\cdot 2 \\cdot 1\n",
    "$$"
   ]
  },
  {
   "cell_type": "code",
   "execution_count": null,
   "id": "15bd139f",
   "metadata": {},
   "outputs": [],
   "source": [
    "%%javascript \n",
    "\n",
    "// Write your function here, call it 'factorial'\n",
    "\n",
    "\n",
    "// This will test your function...\n",
    "for(const [input, output] of [[1, 1], [2, 2], [3, 6], [4, 24], [5, 120]]) {\n",
    "    element.println(\"Result for \" + input + \": \" + factorial(input));\n",
    "    element.println(\"Expected Result for \" + input + \": \" + output);\n",
    "}"
   ]
  }
 ],
 "metadata": {
  "kernelspec": {
   "display_name": "Python 3 (ipykernel)",
   "language": "python",
   "name": "python3"
  },
  "language_info": {
   "codemirror_mode": {
    "name": "ipython",
    "version": 3
   },
   "file_extension": ".py",
   "mimetype": "text/x-python",
   "name": "python",
   "nbconvert_exporter": "python",
   "pygments_lexer": "ipython3",
   "version": "3.7.7"
  }
 },
 "nbformat": 4,
 "nbformat_minor": 5
}
